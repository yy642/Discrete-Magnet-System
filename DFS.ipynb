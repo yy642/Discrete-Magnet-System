{
 "cells": [
  {
   "cell_type": "code",
   "execution_count": 1,
   "metadata": {},
   "outputs": [],
   "source": [
    "import numpy as np\n",
    "import time\n",
    "import itertools\n",
    "from pylab import *\n",
    "from l2distance import l2distance\n",
    "import numpy.random as random\n",
    "\n",
    "from utils import *\n",
    "\n",
    "from visualization import *\n",
    "from Buckets import *\n",
    "from analyze import *\n",
    "from cvxopt.modeling import *\n",
    "from cvxpy import *\n",
    "import matplotlib.pyplot as plt\n",
    "from mpl_toolkits.mplot3d import Axes3D\n",
    "%load_ext line_profiler\n",
    "\n",
    "\n",
    "from ipywidgets import *\n",
    "\n",
    "\n"
   ]
  },
  {
   "cell_type": "code",
   "execution_count": 2,
   "metadata": {},
   "outputs": [],
   "source": [
    "def dp_check_sum(nums, target):\n",
    "    \"\"\"\n",
    "    Given a set of numbers, check if there is a subset set S, \n",
    "    such that sum(S_i) < eps\n",
    "    \n",
    "    return:\n",
    "    true or false\n",
    "    \n",
    "    nums: a 1-D array, a set of numbers, must be sorted\n",
    "    target: a 1-D array, the target sum.    \n",
    "    \n",
    "    \"\"\"\n",
    "    np.sort(nums)\n",
    "    A = np.sum(nums[nums>0])\n",
    "    B = np.sum(nums[nums<0])\n",
    "    \n",
    "    if target < B  or target > A:\n",
    "        return 0\n",
    "    \n",
    "    dp = np.zeros([len(nums), A - B + 1])\n",
    "    \n",
    "    for i in range(A - B + 1):\n",
    "        dp[0][i] = (nums[0] == i + B) * 1\n",
    "    \n",
    "    for i in range(1, len(nums),1):\n",
    "        for j in range(A - B + 1):\n",
    "            if (nums[i] == j + B):\n",
    "                dp[i][j] = 1\n",
    "            if (dp[i - 1][j] == 1):\n",
    "                dp[i][j] = 1\n",
    "            if (dp[i - 1][j - nums[i]] == 1):\n",
    "                dp[i][j] = 1\n",
    "    return dp[len(nums) - 1][target - B]\n",
    "\n",
    "\n"
   ]
  },
  {
   "cell_type": "code",
   "execution_count": 3,
   "metadata": {},
   "outputs": [
    {
     "data": {
      "text/plain": [
       "0.0"
      ]
     },
     "execution_count": 3,
     "metadata": {},
     "output_type": "execute_result"
    }
   ],
   "source": [
    "def dp_check_sum_float(nums, target, delta, eps):\n",
    "    \"\"\"\n",
    "    Given a set of numbers, check if there is a subset set S, \n",
    "    such that abs(sum(S_i) - target) < eps\n",
    "    \n",
    "    return:\n",
    "    true or false\n",
    "    \n",
    "    nums: a 1-D array, a set of numbers, must be sorted\n",
    "    target: a 1-D array, the target sum.    \n",
    "    \n",
    "    \"\"\"\n",
    "    np.sort(nums)\n",
    "    A = np.sum(nums[nums>0])\n",
    "    B = np.sum(nums[nums<0])\n",
    "        \n",
    "    n = int(np.round((A - B + delta) / delta, 0))\n",
    "    \n",
    "    idx = int(np.round((target - B) / delta, 0))\n",
    "    if idx < 0 or idx > n:\n",
    "        return 0\n",
    "\n",
    "    dp = np.zeros([len(nums), n])\n",
    "    \n",
    "    for i in range(n):\n",
    "        dp[0][i] = (np.abs(nums[0]-(i + B) * delta) < eps ) * 1\n",
    "    \n",
    "    for i in range(1, len(nums),1):\n",
    "        for j in range(n):\n",
    "            if (np.abs(nums[i]- delta * (j + B)) < eps):\n",
    "                dp[i][j] = 1\n",
    "            if (dp[i - 1][j] == 1):\n",
    "                dp[i][j] = 1\n",
    "            if (dp[i - 1][int(np.round(j * delta - nums[i],0))] == 1):\n",
    "                dp[i][j] = 1\n",
    "    return dp[len(nums) - 1][int(np.round((target - B) / delta, 0))]\n",
    "\n",
    "\n",
    "\n",
    "dp_check_sum_float(np.array([-0.1,0.1,0.2,0.3]), 0.55, 0.1,0.03)"
   ]
  },
  {
   "cell_type": "code",
   "execution_count": 4,
   "metadata": {},
   "outputs": [],
   "source": [
    "def combination_sum(force, energy, targetF, targetE, eps,three_states=False):\n",
    "    \"\"\"\n",
    "    Given a set of force, find a subset set S of it,\n",
    "    such that sum(abs(sign_i F[S_i])) < eps, and sum(sign_i E[S_i]) < targetE)\n",
    "    \n",
    "    return:\n",
    "    (1) a list of selected index : S_i\n",
    "    (2) a list of corresponding sign for S_i: sign_i\n",
    "\n",
    "   \n",
    "    force: a 1-D array\n",
    "    energy: a 1-D array\n",
    "    \n",
    "    targetF: the target value of net force\n",
    "    targetE: the upper bound of sum of energy\n",
    "    \n",
    "    three_states: boolean\n",
    "    \n",
    "    eps: the maxium difference between the solution sum with the target.\n",
    "    \n",
    "    \"\"\"\n",
    "    res=[]\n",
    "    curlist = []\n",
    "    curF = 0\n",
    "    curE = 0\n",
    "    \n",
    "    dfs(0, force, energy, targetF, targetE, res, curF, curE, curlist, eps,three_states) \n",
    "    \n",
    "    idx_list=[]\n",
    "    sign_list=[]\n",
    "    for l in res:\n",
    "        l = np.asarray(l)\n",
    "        idx_list.append( np.abs(l) - 1)\n",
    "        sign_list.append(np.sign(l))\n",
    "    return idx_list, sign_list\n",
    "    \n",
    "\n",
    "\n",
    "def dfs(idx, force, energy, targetF, targetE, res, curF, curE, curlist,eps, three_states):        \n",
    "    \"\"\"\n",
    "    base case \n",
    "    \"\"\"\n",
    "    if (np.abs(curF -targetF) < eps and len(curlist) > 0 and curE < targetE):\n",
    "         res.append(list.copy(curlist))\n",
    "    if (idx >= len(force)):\n",
    "        return\n",
    "    \"\"\"\n",
    "    recursion\n",
    "    \"\"\"\n",
    "    length = len(curlist)\n",
    "       \n",
    "    # select current number, assign +1 as the sign\n",
    "    curlist.append(idx+1)\n",
    "    \n",
    "\n",
    "    dfs(idx+1,force,energy,targetF, targetE, res, curF+force[idx], curE+energy[idx],curlist,eps,three_states)\n",
    "    curlist = curlist[:length]\n",
    "    \n",
    "    # select current number, assign -1 as the sign\n",
    "    curlist.append(-idx-1)\n",
    "    dfs(idx+1,force,energy,targetF, targetE, res, curF-force[idx], curE-energy[idx],curlist,eps,three_states)    \n",
    "    curlist = curlist[:length]\n",
    "    \n",
    "    # do nothing\n",
    "    if three_states:\n",
    "        dfs(idx+1,force,energy,targetF, targetE, res, curF, curE,curlist,eps,three_states)    \n",
    "\n",
    "    curlist = curlist[:length]\n",
    "\n"
   ]
  },
  {
   "cell_type": "code",
   "execution_count": 5,
   "metadata": {},
   "outputs": [],
   "source": [
    "def combination_sum_pads(N, force, energy, targetF, targetE, eps,three_states=False):\n",
    "    \"\"\"\n",
    "    Given a set of force, find a subset set S of it,\n",
    "    such that sum(abs(sign_i F[S_i])) < eps, and sum(sign_i E[S_i]) < targetE)\n",
    "    \n",
    "    return:\n",
    "    (1) a list of selected index : S_i\n",
    "    (2) a list of corresponding sign for S_i: sign_i\n",
    "\n",
    "   \n",
    "    force: a 1-D array\n",
    "    energy: a 1-D array\n",
    "    \n",
    "    targetF: the target value of net force\n",
    "    targetE: the upper bound of sum of energy\n",
    "    \n",
    "    three_states: boolean\n",
    "    \n",
    "    eps: the maxium difference between the solution sum with the target.\n",
    "    \n",
    "    \"\"\"\n",
    "    pad1 = np.zeros([N * N])\n",
    "    pad2 = np.zeros([N * N])\n",
    "    \n",
    "    res=[]\n",
    "    curlist = []\n",
    "    curF = 0\n",
    "    curE = 0\n",
    "    dfs_pads(0, pad1, pad2, force, energy, curF, curE, targetF, targetE, res, eps) \n",
    "    \n",
    "    return res\n",
    "\n",
    "\n",
    "def dfs_pads(idx, pad1, pad2, force, energy, curF, curE, targetF, targetE, res, eps):\n",
    "    #if idx == len(pad1):\n",
    "    #print(pad1, pad2, curF, curE)\n",
    "    if (idx >= len(pad1) and np.abs(curF - targetF) <= eps and curE < targetE):\n",
    "        res.append([np.copy(pad1),np.copy(pad2),curF,curE])\n",
    "        return\n",
    "    if (idx >= len(pad1)):\n",
    "        return\n",
    "    \n",
    "    pad1[idx]=1\n",
    "    pad2[idx]=1\n",
    "\n",
    "    dfs_pads(idx+1,pad1,pad2,force,energy,\n",
    "             curF+np.sum(force[idx]*pad1[idx]*pad2+force[:,idx]*pad1*pad2[idx])-force[idx][idx],\n",
    "             curE+np.sum(energy[idx]*pad1[idx]*pad2+energy[:,idx]*pad1*pad2[idx])-energy[idx][idx],\n",
    "             targetF,targetE,res,eps)\n",
    "    \n",
    "    #pad1[idx]=1\n",
    "    pad2[idx]=-1\n",
    "    dfs_pads(idx+1,pad1,pad2,force,energy,\n",
    "             curF+np.sum(force[idx]*pad1[idx]*pad2+force[:,idx]*pad1*pad2[idx])+force[idx][idx],\n",
    "             curE+np.sum(energy[idx]*pad1[idx]*pad2+energy[:,idx]*pad1*pad2[idx])+energy[idx][idx],\n",
    "             targetF,targetE,res,eps)\n",
    "    \n",
    "    pad1[idx]=-1\n",
    "    pad2[idx]=1\n",
    "    dfs_pads(idx+1,pad1,pad2,force,energy,\n",
    "             curF+np.sum(force[idx]*pad1[idx]*pad2+force[:,idx]*pad1*pad2[idx])+force[idx][idx],\n",
    "             curE+np.sum(energy[idx]*pad1[idx]*pad2+energy[:,idx]*pad1*pad2[idx])+energy[idx][idx],\n",
    "             targetF,targetE,res,eps)\n",
    "\n",
    "    #pad1[idx]=-1\n",
    "    pad2[idx]=-1\n",
    "    dfs_pads(idx+1,pad1,pad2,force,energy,\n",
    "             curF+np.sum(force[idx]*pad1[idx]*pad2+force[:,idx]*pad1*pad2[idx])-force[idx][idx],\n",
    "             curE+np.sum(energy[idx]*pad1[idx]*pad2+energy[:,idx]*pad1*pad2[idx])-energy[idx][idx],\n",
    "             targetF,targetE,res,eps)\n",
    "    \n",
    "    pad1[idx]=0\n",
    "    pad2[idx]=0"
   ]
  },
  {
   "cell_type": "code",
   "execution_count": 6,
   "metadata": {},
   "outputs": [],
   "source": [
    "def initialize_buckets(interaction_tensor_2D):\n",
    "    \"\"\"\n",
    "    generate the unique dx^2 + dy^2 value and position for a given interaction_tensor_2D.\n",
    "    INPUT:\n",
    "    interaction_tensor_2D, a 2D array, the pairwise dx^2 + dy^2\n",
    "    \n",
    "    OUTPUT:\n",
    "    unique_x2y2: a 1D array, contains the sorted unique value of dx^2 + dy^2 in the interaction_tensor_2D.\n",
    "    num_unique_x2y2: a 3D array, first dimension is len(unique_x2y2), each dimension corresponding to a dx^2+dy^2 value,\n",
    "    each dimension contains a 2D binary array that has the same shape as interaction_tensor_2D, indicating the position \n",
    "    where interaction_tensor_2D has the dx^2+dy^2 value.\n",
    "    \"\"\"\n",
    "    unique_x2y2 = np.unique(interaction_tensor_2D)\n",
    "    idx_unique_x2y2 = np.empty([len(unique_x2y2),interaction_tensor_2D.shape[0], interaction_tensor_2D.shape[1]])\n",
    "    i=0\n",
    "    for x2y2 in unique_x2y2:\n",
    "        idx_unique_x2y2[i] = (interaction_tensor_2D == x2y2)\n",
    "        i+=1\n",
    "    return unique_x2y2, idx_unique_x2y2\n",
    "\n",
    "def single_dipole_buckets(idx_unique_x2y2, pad1, pad2):\n",
    "    \"\"\"\n",
    "    given two pads, pads[i] and pads[j], and the idx_unique_x2y2, fill in the buckets.\n",
    "        \n",
    "    INPUT:\n",
    "    idx_unique_x2y2, a 3D array, computed from initialize_buckets function\n",
    "    pads: a list of pads\n",
    "    i, integer, the index of the first pad\n",
    "    j, integer, the index of the second pad\n",
    "    \n",
    "    OUTPUT:\n",
    "    buckets: a 1D array, same shape as idx_unique_x2y2, k-th element represents the net number of k-th dx^2+dy^2\n",
    "    appears in given pads interactions. \n",
    "    \"\"\"\n",
    "    buckets = np.zeros([len(idx_unique_x2y2)])\n",
    "    outer_product = np.outer(pad1, pad2)    \n",
    "    buckets[0] = np.sum(np.diag(outer_product)) \n",
    "    outer_product = outer_product.reshape(1, len(outer_product), len(outer_product))\n",
    "    buckets[1:] = np.sum(np.sum(outer_product * idx_unique_x2y2[1:], axis=1), axis=1)\n",
    "    return buckets\n",
    "\n",
    "def outerToBucket(outer_product, idx_unique_x2y2):\n",
    "    buckets = np.zeros([len(idx_unique_x2y2)]).astype('int32')\n",
    "   \n",
    "    buckets[0] = np.sum(np.diag(outer_product))\n",
    "    outer_product = outer_product.reshape(1, len(outer_product), len(outer_product))\n",
    "   \n",
    "    \n",
    "    buckets[1:] = np.sum(np.sum(outer_product * idx_unique_x2y2[1:], axis=1), axis=1)\n",
    "    return buckets\n",
    "    "
   ]
  },
  {
   "cell_type": "code",
   "execution_count": 7,
   "metadata": {},
   "outputs": [
    {
     "data": {
      "text/plain": [
       "array([3., 6., 6.])"
      ]
     },
     "execution_count": 7,
     "metadata": {},
     "output_type": "execute_result"
    }
   ],
   "source": [
    "def hash_bucket(bucket, base):\n",
    "    \"\"\"\n",
    "    only applies to under 4by4, hash a bucket into a 32-bit integer\n",
    "    \"\"\"\n",
    "    hashval = 0\n",
    "    for j in range(len(bucket) - 1):\n",
    "        i = bucket[j]\n",
    "        hashval = hashval * 100 + (i +  base[j])\n",
    "    hashval = hashval * 100 + bucket[-1] + base[-1]\n",
    "    return hashval\n",
    "\n",
    "\n",
    "\n",
    "def backout_bucket(hashval, base):\n",
    "    bucket = np.zeros([len(base)])\n",
    "    for i in range(len(bucket)):\n",
    "        tmp = hashval % 100\n",
    "        bucket[len(bucket) - i - 1] = tmp - base[len(bucket) - i - 1]\n",
    "        hashval = int(hashval / 100)\n",
    "    return bucket\n",
    "\n",
    "hash_bucket([2,0,2],[8,16,8])\n",
    "backout_bucket(hash_bucket([3,6,6],[8,16,8]),[8,16,8])"
   ]
  },
  {
   "cell_type": "code",
   "execution_count": 8,
   "metadata": {},
   "outputs": [],
   "source": [
    "def combination_unique_pads(N, idxlist, three_states=False):\n",
    "    \"\"\"\n",
    "    Given a set of force, find a subset set S of it,\n",
    "    such that sum(abs(sign_i F[S_i])) < eps, and sum(sign_i E[S_i]) < targetE)\n",
    "    \n",
    "    return:\n",
    "    (1) a list of selected index : S_i\n",
    "    (2) a list of corresponding sign for S_i: sign_i\n",
    "\n",
    "   \n",
    "    force: a 1-D array\n",
    "    energy: a 1-D array\n",
    "    \n",
    "    targetF: the target value of net force\n",
    "    targetE: the upper bound of sum of energy\n",
    "    \n",
    "    three_states: boolean\n",
    "    \n",
    "    eps: the maxium difference between the solution sum with the target.\n",
    "    \n",
    "    \"\"\"\n",
    "    pad1 = np.zeros([N * N])\n",
    "    pad2 = np.zeros([N * N])\n",
    "    global base_bucket\n",
    "    base_bucket = outerToBucket(np.outer(np.ones([N*N]),np.ones([N*N])),idxlist)\n",
    "    res=set()\n",
    "    curlist = []\n",
    "    curF = 0\n",
    "    curE = 0\n",
    "    dfs_unique_pads(0, pad1, pad2, res, np.zeros([N*N, N*N])) \n",
    "    \n",
    "    return res\n",
    "\n",
    "\n",
    "def dfs_unique_pads(idx, pad1, pad2, res, outerproduct):\n",
    "    global idxlist,base_bucket\n",
    "    #if (np.all(np.outer(pad1,pad2)!= outerproduct)):\n",
    "    #    print(pad1, pad2, outerproduct)\n",
    "\n",
    "    if (idx == len(pad1)):\n",
    "        #if (np.any(np.outer(pad1, pad2) != outerproduct)):\n",
    "\n",
    "         #   print(pad1, pad2)\n",
    "         #   print(outerproduct)\n",
    "        \n",
    "        bucket = outerToBucket(outerproduct,idxlist)\n",
    "        res.add(hash_bucket(bucket, base_bucket ))\n",
    "        #res.add(str(bucket))\n",
    "        return\n",
    "   \n",
    "    \n",
    "    pre = outerproduct\n",
    "    \n",
    "    pad1[idx]=1\n",
    "    pad2[idx]=1\n",
    "    outerproduct[idx] = pad1[idx] * pad2\n",
    "    outerproduct[:,idx] = pad2[idx] * pad1\n",
    "    outerproduct[idx][idx]=1\n",
    "    dfs_unique_pads(idx+1,pad1,pad2, res, outerproduct)\n",
    "    \n",
    "    \n",
    "    #pad1[idx]=1\n",
    "    pad2[idx]=-1\n",
    "    outerproduct[idx] = pad1[idx] * pad2\n",
    "    outerproduct[:,idx] = pad2[idx] * pad1\n",
    "    outerproduct[idx][idx]=-1\n",
    "    dfs_unique_pads(idx+1,pad1,pad2,res, outerproduct)\n",
    "    \n",
    "    pad1[idx]=-1\n",
    "    #pad2[idx]=-1\n",
    "    outerproduct[idx] = pad1[idx] * pad2\n",
    "    outerproduct[:,idx] = pad2[idx] * pad1\n",
    "    outerproduct[idx][idx]=1\n",
    "    dfs_unique_pads(idx+1,pad1,pad2,res, outerproduct)    \n",
    "    \n",
    "    #pad1[idx]=-1\n",
    "    pad2[idx]=1\n",
    "    outerproduct[idx] = pad1[idx] * pad2\n",
    "    outerproduct[:,idx] = pad2[idx] * pad1\n",
    "    outerproduct[idx][idx]=-1\n",
    "    dfs_unique_pads(idx+1,pad1,pad2,res, outerproduct)\n",
    "    \n",
    "    pad1[idx]=0\n",
    "    pad2[idx]=0\n",
    "    outerproduct = pre"
   ]
  },
  {
   "cell_type": "code",
   "execution_count": 21,
   "metadata": {},
   "outputs": [
    {
     "name": "stdout",
     "output_type": "stream",
     "text": [
      "4366 9.887645244598389\n"
     ]
    }
   ],
   "source": [
    "N=3\n",
    "x2y2list, idxlist = initialize_buckets(gen_2D_pos(N))\n",
    "s=time.time()\n",
    "res=combination_unique_pads(N, idxlist, three_states=False)\n",
    "e=time.time()\n",
    "print(len(res),e-s)"
   ]
  },
  {
   "cell_type": "code",
   "execution_count": 120,
   "metadata": {},
   "outputs": [
    {
     "data": {
      "text/plain": [
       "array([ 9, 24, 16, 12, 16,  4], dtype=int32)"
      ]
     },
     "execution_count": 120,
     "metadata": {},
     "output_type": "execute_result"
    }
   ],
   "source": [
    "N=3\n",
    "x2y2list, idxlist = initialize_buckets(gen_2D_pos(N))\n",
    "outerToBucket(np.outer(np.ones([N*N]),np.ones([N*N])),idxlist)"
   ]
  },
  {
   "cell_type": "code",
   "execution_count": 27,
   "metadata": {},
   "outputs": [
    {
     "data": {
      "text/plain": [
       "array([], dtype=float64)"
      ]
     },
     "execution_count": 27,
     "metadata": {},
     "output_type": "execute_result"
    }
   ],
   "source": [
    "dlist"
   ]
  },
  {
   "cell_type": "code",
   "execution_count": 37,
   "metadata": {},
   "outputs": [
    {
     "name": "stdout",
     "output_type": "stream",
     "text": [
      "153\n"
     ]
    }
   ],
   "source": [
    "assignments = [[-1,-1],[-1,0],[-1,1],[0,-1],[0,1],[1,-1],[1,0],[1,1]]\n",
    "#assignments = [[-1,-1],[-1,1],[1,-1],[1,1]]\n",
    "def combination_unique_pads_threeStates(N, idxlist):\n",
    "    \"\"\"\n",
    "    Given a set of force, find a subset set S of it,\n",
    "    such that sum(abs(sign_i F[S_i])) < eps, and sum(sign_i E[S_i]) < targetE)\n",
    "    \n",
    "    return:\n",
    "    (1) a list of selected index : S_i\n",
    "    (2) a list of corresponding sign for S_i: sign_i\n",
    "\n",
    "   \n",
    "    force: a 1-D array\n",
    "    energy: a 1-D array\n",
    "    \n",
    "    targetF: the target value of net force\n",
    "    targetE: the upper bound of sum of energy\n",
    "    \n",
    "    three_states: boolean\n",
    "    \n",
    "    eps: the maxium difference between the solution sum with the target.\n",
    "    \n",
    "    \"\"\"\n",
    "    pad1 = np.zeros([N * N]).astype('int8')\n",
    "    pad2 = np.zeros([N * N]).astype('int8')\n",
    "    global base_bucket\n",
    "    base_bucket = outerToBucket(np.outer(np.ones([N*N]),np.ones([N*N])),idxlist)\n",
    "    res=set()\n",
    "    dfs_unique_pads_threeStates(0, pad1, pad2, res)     \n",
    "    return res\n",
    "\n",
    "\n",
    "def dfs_unique_pads_threeStates(idx, pad1, pad2, res):\n",
    "    global idxlist,base_bucket,assignments\n",
    "    global x2y2list, two_extrema, dlist\n",
    "    bucket = outerToBucket(np.outer(pad1,pad2),idxlist)    \n",
    "    \n",
    "    hashval=hash_bucket(bucket, base_bucket)\n",
    "    if not hashval in res:\n",
    "        \n",
    "        res.add(hashval)\n",
    "        \n",
    "        pes = combination_of_single_dipole(x2y2list, bucket, dlist, single_dipole_energy)\n",
    "        info=extrema_info(pes,dlist)\n",
    "        if (len(info)>1):\n",
    "            two_extrema.append([np.copy(pad1),np.copy(pad2)])\n",
    "        \n",
    "        #res.add(str(bucket))\n",
    "        #return\n",
    "    if (idx >= len(pad1)):\n",
    "        return\n",
    "    for pair in assignments:\n",
    "        pad1[idx]=pair[0]\n",
    "        pad2[idx]=pair[1]\n",
    "        dfs_unique_pads_threeStates(idx+1,pad1,pad2, res)\n",
    "    \n",
    "    pad1[idx]=0\n",
    "    pad2[idx]=0\n",
    "    \n",
    "two_extrema=[]\n",
    "N=2\n",
    "dlist = np.linspace(0.45,5,100)\n",
    "x2y2list, idxlist = initialize_buckets(gen_2D_pos(N))\n",
    "\n",
    "res=combination_unique_pads_threeStates(N, idxlist)\n",
    "\n",
    "print(len(res))\n",
    "#print(res)"
   ]
  },
  {
   "cell_type": "code",
   "execution_count": 38,
   "metadata": {},
   "outputs": [
    {
     "data": {
      "text/plain": [
       "2"
      ]
     },
     "execution_count": 38,
     "metadata": {},
     "output_type": "execute_result"
    }
   ],
   "source": [
    "len(two_extrema)"
   ]
  },
  {
   "cell_type": "code",
   "execution_count": 63,
   "metadata": {},
   "outputs": [
    {
     "name": "stdout",
     "output_type": "stream",
     "text": [
      "(0.8, -0.208)\n",
      "(2.7, 0.027)\n",
      "(1.2, -0.809)\n",
      "(1.7, -0.286)\n"
     ]
    },
    {
     "data": {
      "image/png": "[encoded data removed]",
      "text/plain": [
       "<Figure size 300x300 with 2 Axes>"
      ]
     },
     "metadata": {},
     "output_type": "display_data"
    },
    {
     "data": {
      "image/png": "[encoded data removed]",
      "text/plain": [
       "<Figure size 300x300 with 2 Axes>"
      ]
     },
     "metadata": {},
     "output_type": "display_data"
    },
    {
     "data": {
      "image/png": "[encoded data removed]",
      "text/plain": [
       "<Figure size 300x300 with 2 Axes>"
      ]
     },
     "metadata": {},
     "output_type": "display_data"
    },
    {
     "data": {
      "image/png": "[encoded data removed]",
      "text/plain": [
       "<Figure size 1600x1200 with 1 Axes>"
      ]
     },
     "metadata": {
      "needs_background": "light"
     },
     "output_type": "display_data"
    }
   ],
   "source": [
    "colors=['r','g','b']\n",
    "i=0\n",
    "for pads in two_extrema[:1]:\n",
    "    show_pads(pads[0],pads[1],2,patch_color='r')\n",
    "    \n",
    "    show_pads(get_magnet_pad(2,2),get_magnet_pad(2,7)*(-1),2,patch_color='g')\n",
    "    show_pads(get_magnet_pad(2,2),get_magnet_pad(2,11)*(-1),2,patch_color='b')\n",
    "    pes=combination_of_single_dipole(x2y2list, outerToBucket(np.outer(pads[0],pads[1]),idxlist)  , dlist, single_dipole_energy)\n",
    "    info=extrema_info(pes,dlist)\n",
    "    plt.figure(figsize=(8,6),dpi=200)\n",
    "    plt.plot(dlist,pes,color=colors[i],label='2 by 2, three states')\n",
    "    for t in info:\n",
    "        print(t)\n",
    "        plt.scatter(t[0],t[1],color=colors[i])\n",
    "    i+=1\n",
    "    \n",
    "    pes=combination_of_single_dipole(x2y2list, outerToBucket(np.outer(get_magnet_pad(2,2),get_magnet_pad(2,7)*(-1)),idxlist)  , dlist, single_dipole_energy)\n",
    "    info=extrema_info(pes,dlist)\n",
    "    #plt.figure()\n",
    "    plt.plot(dlist,pes,color=colors[i],label='2 by 2 deep')\n",
    "    for t in info:\n",
    "        print(t)\n",
    "        plt.scatter(t[0],t[1],color=colors[i])\n",
    "    i+=1\n",
    "    \n",
    "    pes=combination_of_single_dipole(x2y2list, outerToBucket(np.outer(get_magnet_pad(2,2),get_magnet_pad(2,11)*(-1)),idxlist)  , dlist, single_dipole_energy)\n",
    "    info=extrema_info(pes,dlist)\n",
    "    #plt.figure()\n",
    "    plt.plot(dlist,pes,color=colors[i],label='2 by 2 shallow')\n",
    "    for t in info:\n",
    "        print(t)\n",
    "        plt.scatter(t[0],t[1],color=colors[i])\n",
    "    i+=1\n",
    "plt.legend()    \n",
    "    \n",
    "plt.savefig(\"figure/2by2_compare.png\")   "
   ]
  },
  {
   "cell_type": "code",
   "execution_count": 11,
   "metadata": {},
   "outputs": [],
   "source": [
    "#assignments = [[-1,-1],[-1,0],[-1,1],[0,-1],[0,1],[1,-1],[1,0],[1,1]]\n",
    "assignments = [[-1,-1],[-1,1],[1,-1],[1,1]]\n",
    "def combination_unique_pads_TwoStates(N, idxlist):\n",
    "    \"\"\"\n",
    "    Given a set of force, find a subset set S of it,\n",
    "    such that sum(abs(sign_i F[S_i])) < eps, and sum(sign_i E[S_i]) < targetE)\n",
    "    \n",
    "    return:\n",
    "    (1) a list of selected index : S_i\n",
    "    (2) a list of corresponding sign for S_i: sign_i\n",
    "\n",
    "   \n",
    "    force: a 1-D array\n",
    "    energy: a 1-D array\n",
    "    \n",
    "    targetF: the target value of net force\n",
    "    targetE: the upper bound of sum of energy\n",
    "    \n",
    "    three_states: boolean\n",
    "    \n",
    "    eps: the maxium difference between the solution sum with the target.\n",
    "    \n",
    "    \"\"\"\n",
    "    pad1 = np.zeros([N * N]).astype('int8')\n",
    "    pad2 = np.zeros([N * N]).astype('int8')\n",
    "    global base_bucket\n",
    "    base_bucket = outerToBucket(np.outer(np.ones([N*N]),np.ones([N*N])),idxlist)\n",
    "    res=set()\n",
    "    dfs_unique_pads_TwoStates(0, pad1, pad2, res) \n",
    "    \n",
    "    return res\n",
    "\n",
    "\n",
    "def dfs_unique_pads_TwoStates(idx, pad1, pad2, res):\n",
    "    global idxlist,base_bucket,assignments\n",
    "    bucket = outerToBucket(np.outer(pad1,pad2),idxlist)\n",
    "    \n",
    "    if (idx == len(pad1)):\n",
    "        #if (np.any(np.outer(pad1, pad2) != outerproduct)):\n",
    "\n",
    "         #   print(pad1, pad2)\n",
    "         #   print(outerproduct)\n",
    "        \n",
    "        bucket = outerToBucket(np.outer(pad1,pad2),idxlist)\n",
    "        res.add(hash_bucket(bucket, base_bucket ))\n",
    "        \n",
    "        return\n",
    "    \n",
    "\n",
    "    for pair in assignments:\n",
    "        pad1[idx]=pair[0]\n",
    "        pad2[idx]=pair[1]\n",
    "        dfs_unique_pads_TwoStates(idx+1,pad1,pad2, res)\n",
    "    \n",
    "    pad1[idx]=0\n",
    "    pad2[idx]=0\n",
    "\n",
    "\n"
   ]
  },
  {
   "cell_type": "code",
   "execution_count": 27,
   "metadata": {},
   "outputs": [
    {
     "name": "stdout",
     "output_type": "stream",
     "text": [
      "4366 21.94162106513977\n"
     ]
    }
   ],
   "source": [
    "\n",
    "N=3\n",
    "x2y2list, idxlist = initialize_buckets(gen_2D_pos(N))\n",
    "s=time.time()\n",
    "res=combination_unique_pads_TwoStates(N, idxlist)\n",
    "e=time.time()\n",
    "print(len(res),e-s)\n",
    "\n",
    "\n",
    "#for r in res:\n",
    "#    print(backout_bucket(r, base_bucket))"
   ]
  },
  {
   "cell_type": "code",
   "execution_count": 115,
   "metadata": {},
   "outputs": [
    {
     "data": {
      "text/plain": [
       "82.60869565217392"
      ]
     },
     "execution_count": 115,
     "metadata": {},
     "output_type": "execute_result"
    }
   ],
   "source": [
    "0.19/0.0023*60/60"
   ]
  },
  {
   "cell_type": "code",
   "execution_count": 20,
   "metadata": {},
   "outputs": [
    {
     "name": "stdout",
     "output_type": "stream",
     "text": [
      "153 0.18508172035217285\n"
     ]
    }
   ],
   "source": [
    "N=2\n",
    "x2y2list, idxlist = initialize_buckets(gen_2D_pos(N))\n",
    "s=time.time()\n",
    "res=combination_unique_pads_threeStates(N, idxlist)\n",
    "e=time.time()\n",
    "print(len(res),e-s)\n",
    "base=[4,8,4]"
   ]
  },
  {
   "cell_type": "code",
   "execution_count": null,
   "metadata": {},
   "outputs": [],
   "source": [
    "compute(get_magnet_pad(2,2), )"
   ]
  },
  {
   "cell_type": "code",
   "execution_count": 32,
   "metadata": {},
   "outputs": [],
   "source": [
    "from collections import defaultdict\n",
    "dlist=np.linspace(0.5,5,100)\n",
    "x2y2list, idxlist = initialize_buckets(gen_2D_pos(N))\n",
    "mydict=defaultdict(set)\n",
    "extremas=np.zeros([4])\n",
    "for hashval in res:\n",
    "    bucket=backout_bucket(hashval, base)\n",
    "    pes = combination_of_single_dipole(x2y2list, bucket, dlist, single_dipole_energy)\n",
    "    info=extrema_info(pes,dlist)\n",
    "    extremas[len(info)]+=1\n",
    "    mydict[len(info)].add(info)\n",
    "    #plt.plot(dlist,pes)"
   ]
  },
  {
   "cell_type": "code",
   "execution_count": 35,
   "metadata": {},
   "outputs": [],
   "source": [
    "mydict\n",
    "try:\n",
    "    import cPickle as pickle\n",
    "except ImportError:  # python 3.x\n",
    "    import pickle\n",
    "    \n",
    "with open('extrema_2by2_ThreeStates_data.p', 'wb') as fp:\n",
    "    pickle.dump(mydict, fp, protocol=pickle.HIGHEST_PROTOCOL)"
   ]
  },
  {
   "cell_type": "code",
   "execution_count": null,
   "metadata": {},
   "outputs": [],
   "source": []
  },
  {
   "cell_type": "code",
   "execution_count": 119,
   "metadata": {},
   "outputs": [
    {
     "name": "stdout",
     "output_type": "stream",
     "text": [
      "153 0.18116974830627441\n",
      "{0, 51205, 21002, 21004, 50702, 50703, 50704, 50705, 20503, 71206, 41002, 41003, 41004, 41005, 41006, 10805, 10806, 10807, 40504, 70207, 1600, 61004, 61006, 30802, 30803, 30804, 30805, 30806, 30807, 60505, 21103, 50801, 50802, 50803, 50804, 50805, 50806, 20602, 20604, 80008, 11401, 41104, 70801, 70802, 70803, 40602, 40603, 40604, 40605, 40606, 10402, 61105, 30903, 30904, 30905, 30906, 60604, 60606, 30403, 81608, 21201, 21202, 50902, 50903, 50904, 50905, 20704, 20705, 20706, 50405, 71407, 41204, 11003, 40702, 40703, 40704, 40705, 40706, 70406, 61206, 61207, 31001, 31003, 31004, 31005, 60702, 60703, 60704, 804, 30502, 808, 21302, 51003, 51004, 51005, 51007, 20802, 20803, 20805, 20806, 20807, 50506, 20302, 71005, 40800, 40803, 40804, 40805, 40808, 10603, 61306, 31102, 60801, 60802, 60803, 60805, 60806, 30601, 30603, 30604, 30605, 60306, 80800, 51106, 80804, 20904, 20905, 20906, 50603, 50604, 50605, 50607, 20401, 20402, 11202, 40902, 40903, 40904, 40905, 40906, 70605, 40404, 10201, 31203, 60902, 60903, 60904, 30703, 30704, 30705, 30706, 60406, 60407}\n"
     ]
    }
   ],
   "source": [
    "N=2\n",
    "x2y2list, idxlist = initialize_buckets(gen_2D_pos(N))\n",
    "s=time.time()\n",
    "res=combination_unique_pads_threeStates(N, idxlist)\n",
    "e=time.time()\n",
    "print(len(res),e-s)\n",
    "print(res)"
   ]
  },
  {
   "cell_type": "code",
   "execution_count": 14,
   "metadata": {},
   "outputs": [
    {
     "name": "stdout",
     "output_type": "stream",
     "text": [
      "39 0.021218061447143555\n"
     ]
    }
   ],
   "source": [
    "N=2\n",
    "x2y2list, idxlist = initialize_buckets(gen_2D_pos(N))\n",
    "s=time.time()\n",
    "res=combination_unique_pads_threeStates(N, idxlist)\n",
    "e=time.time()\n",
    "print(len(res),e-s)"
   ]
  },
  {
   "cell_type": "code",
   "execution_count": 15,
   "metadata": {},
   "outputs": [
    {
     "name": "stdout",
     "output_type": "stream",
     "text": [
      "19 0.019028902053833008\n",
      "39 0.02713799476623535\n"
     ]
    }
   ],
   "source": [
    "N=2\n",
    "x2y2list, idxlist = initialize_buckets(gen_2D_pos(N))\n",
    "s=time.time()\n",
    "res=combination_unique_pads(N, idxlist)\n",
    "e=time.time()\n",
    "print(len(res),e-s)\n",
    "\n",
    "N=2\n",
    "x2y2list, idxlist = initialize_buckets(gen_2D_pos(N))\n",
    "s=time.time()\n",
    "res=combination_unique_pads_threeStates(N, idxlist)\n",
    "e=time.time()\n",
    "print(len(res),e-s)\n",
    "#res"
   ]
  },
  {
   "cell_type": "code",
   "execution_count": 136,
   "metadata": {
    "scrolled": true
   },
   "outputs": [
    {
     "name": "stdout",
     "output_type": "stream",
     "text": [
      "160\n",
      "time= 8.33015513420105\n"
     ]
    },
    {
     "data": {
      "image/png": "[encoded data removed]",
      "text/plain": [
       "<Figure size 432x288 with 1 Axes>"
      ]
     },
     "metadata": {
      "needs_background": "light"
     },
     "output_type": "display_data"
    }
   ],
   "source": [
    "N=3\n",
    "N2=N**2\n",
    "dlist=np.array([1.75])\n",
    "pos_2D=gen_2D_pos(N)\n",
    "force = gen_derivative_3D_pos(pos_2D, dlist).reshape(N2,N2)\n",
    "energy = interaction_tensor(pos_2D, dlist).reshape(N2,N2)\n",
    "dlist2=np.linspace(1,5,20)\n",
    "tensor_list = interaction_tensor(pos_2D, dlist2)\n",
    "targetF = 0\n",
    "targetE = -1.1\n",
    "eps=0.05\n",
    "s=time.time()\n",
    "res=combination_sum_pads(N, force, energy, targetF, targetE, eps,three_states=False)\n",
    "print(len(res))\n",
    "e=time.time()\n",
    "print(\"time=\",e-s)\n",
    "for pair in res:\n",
    "    #print(pair)\n",
    "    pad1 = pair[0]\n",
    "    pad2 = pair[1]\n",
    "    pes = energy_tensor_form(pad1, tensor_list, pad2).flatten()\n",
    "    plt.plot(dlist2,pes,label=str(np.round(pair[2],2))+\",\"+str(np.round(pair[3],2)))"
   ]
  },
  {
   "cell_type": "code",
   "execution_count": 138,
   "metadata": {},
   "outputs": [
    {
     "data": {
      "text/plain": [
       "65536"
      ]
     },
     "execution_count": 138,
     "metadata": {},
     "output_type": "execute_result"
    }
   ],
   "source": [
    "2**16"
   ]
  },
  {
   "cell_type": "code",
   "execution_count": 140,
   "metadata": {},
   "outputs": [
    {
     "data": {
      "text/plain": [
       "array([0.02493936, 0.47383957])"
      ]
     },
     "execution_count": 140,
     "metadata": {},
     "output_type": "execute_result"
    }
   ],
   "source": [
    "np.random.rand(2)"
   ]
  },
  {
   "cell_type": "code",
   "execution_count": 143,
   "metadata": {},
   "outputs": [
    {
     "data": {
      "text/plain": [
       "array([[[0.6342786 , 0.94798772, 0.1394646 ],\n",
       "        [0.40014092, 0.99130604, 0.32268619],\n",
       "        [0.32546461, 0.06277861, 0.05374563],\n",
       "        [0.558083  , 0.83677308, 0.21839177]],\n",
       "\n",
       "       [[0.98735606, 0.2009123 , 0.6113295 ],\n",
       "        [0.3628091 , 0.55062567, 0.9701725 ],\n",
       "        [0.32256722, 0.83475464, 0.63331214],\n",
       "        [0.43535334, 0.36470136, 0.69492032]]])"
      ]
     },
     "execution_count": 143,
     "metadata": {},
     "output_type": "execute_result"
    }
   ],
   "source": [
    "np.random.rand(2,4,3)"
   ]
  },
  {
   "cell_type": "code",
   "execution_count": null,
   "metadata": {},
   "outputs": [],
   "source": []
  }
 ],
 "metadata": {
  "kernelspec": {
   "display_name": "Python 3",
   "language": "python",
   "name": "python3"
  },
  "language_info": {
   "codemirror_mode": {
    "name": "ipython",
    "version": 3
   },
   "file_extension": ".py",
   "mimetype": "text/x-python",
   "name": "python",
   "nbconvert_exporter": "python",
   "pygments_lexer": "ipython3",
   "version": "3.6.7"
  }
 },
 "nbformat": 4,
 "nbformat_minor": 2
}
